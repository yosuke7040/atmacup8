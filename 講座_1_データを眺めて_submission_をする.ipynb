{
  "nbformat": 4,
  "nbformat_minor": 0,
  "metadata": {
    "colab": {
      "name": "講座#1 データを眺めて submission をする.ipynb",
      "provenance": [],
      "collapsed_sections": [],
      "authorship_tag": "ABX9TyPIvHwFlKuyj5IQjh8WkulV",
      "include_colab_link": true
    },
    "kernelspec": {
      "name": "python3",
      "display_name": "Python 3"
    },
    "accelerator": "GPU"
  },
  "cells": [
    {
      "cell_type": "markdown",
      "metadata": {
        "id": "view-in-github",
        "colab_type": "text"
      },
      "source": [
        "<a href=\"https://colab.research.google.com/github/yosuke7040/atmacup8/blob/main/%E8%AC%9B%E5%BA%A7_1_%E3%83%87%E3%83%BC%E3%82%BF%E3%82%92%E7%9C%BA%E3%82%81%E3%81%A6_submission_%E3%82%92%E3%81%99%E3%82%8B.ipynb\" target=\"_parent\"><img src=\"https://colab.research.google.com/assets/colab-badge.svg\" alt=\"Open In Colab\"/></a>"
      ]
    },
    {
      "cell_type": "code",
      "metadata": {
        "id": "0d6CF24Hxdvv"
      },
      "source": [
        "!pip install git+https://github.com/pandas-profiling/pandas-profiling.git"
      ],
      "execution_count": null,
      "outputs": []
    },
    {
      "cell_type": "code",
      "metadata": {
        "id": "B8MGxqyXyecy"
      },
      "source": [
        "!pip show pandas_profiling"
      ],
      "execution_count": null,
      "outputs": []
    },
    {
      "cell_type": "code",
      "metadata": {
        "colab": {
          "base_uri": "https://localhost:8080/"
        },
        "id": "4aWVtUQQbbzy",
        "outputId": "e55dcedd-61e6-43c5-a81c-e4a5d6c27bb7"
      },
      "source": [
        "from google.colab import drive\n",
        "drive.mount('/content/drive')"
      ],
      "execution_count": 1,
      "outputs": [
        {
          "output_type": "stream",
          "text": [
            "Mounted at /content/drive\n"
          ],
          "name": "stdout"
        }
      ]
    },
    {
      "cell_type": "code",
      "metadata": {
        "id": "VpS80dwLbeQ0"
      },
      "source": [
        "import os\n",
        "\n",
        "import pandas as pd\n",
        "import matplotlib.pyplot as plt\n",
        "import seaborn as sns\n",
        "import numpy as np\n",
        "\n",
        "from pandas_profiling import ProfileReport # profile report を作る用\n",
        "##from pandas_profiling.utils.cache import cache_file\n",
        "from matplotlib_venn import venn2 # venn図を作成する用\n",
        "%matplotlib inline\n",
        "\n",
        "sns.set_style('ticks')"
      ],
      "execution_count": 38,
      "outputs": []
    },
    {
      "cell_type": "code",
      "metadata": {
        "id": "7MKuFs9HbgN7"
      },
      "source": [
        "INPUT_DIR = '/content/drive/MyDrive/Colab Notebooks/atmacup08/data/inputs/'\n",
        "OUTPUT_DIR = '/content/drive/MyDrive/Colab Notebooks/atmacup08/data/outputs/'\n",
        "\n",
        "os.makedirs(OUTPUT_DIR, exist_ok=True)\n",
        "\n",
        "train_df = pd.read_csv(os.path.join(INPUT_DIR, 'train.csv'))\n",
        "test_df = pd.read_csv(os.path.join(INPUT_DIR, 'test.csv'))\n",
        "\n",
        "whole_df = pd.concat([train_df, test_df], ignore_index=True)"
      ],
      "execution_count": 18,
      "outputs": []
    },
    {
      "cell_type": "code",
      "metadata": {
        "id": "iPRBnLSNcj26"
      },
      "source": [
        "whole_df.T"
      ],
      "execution_count": null,
      "outputs": []
    },
    {
      "cell_type": "markdown",
      "metadata": {
        "id": "DJ4roIrcqvwI"
      },
      "source": [
        "#**train/testのReportをさっくり作る**\n",
        "\n",
        "pandas profiling というライブラリがあり、こちらを使うとデータフレームの統計量を一気に確認することが可能です。簡単な使い方は ProfileReport class に可視化したいデータフレームを渡して repot を作り to_file を呼び出して html ファイルとして保存する方法です。\n",
        "\n",
        "保存した html をブラウザなどで開くと以下のような統計量をカラムごとに確認できてとても便利です。\n",
        "\n",
        "ユニークな値の数\n",
        "頻度の高い値\n",
        "意味の無いカラムや Null が多いカラムかどうか …etc"
      ]
    },
    {
      "cell_type": "code",
      "metadata": {
        "id": "_zO4CnU4nNa6"
      },
      "source": [
        "report = ProfileReport(train_df)\n",
        "report.to_file(os.path.join(OUTPUT_DIR, 'train_report.html'))"
      ],
      "execution_count": null,
      "outputs": []
    },
    {
      "cell_type": "code",
      "metadata": {
        "id": "fu-86D4n3HWb"
      },
      "source": [
        "c = 'Year_of_Release'\r\n",
        "\r\n",
        "fig, ax = plt.subplots(figsize=(5,3))\r\n",
        "# venn2は２つの円、venn3は３つ使える\r\n",
        "venn2(\r\n",
        "    subsets = ( set( train_df[c].unique() ), set( test_df[c].unique() ) ),\r\n",
        "    set_labels = ('Train', 'Test'),\r\n",
        "    ax = ax\r\n",
        ")\r\n",
        "ax.set_title(c)"
      ],
      "execution_count": null,
      "outputs": []
    },
    {
      "cell_type": "code",
      "metadata": {
        "id": "E0aGdsmR6WZu"
      },
      "source": [
        "fig, ax = plt.subplots(figsize=(5,5))\r\n",
        "venn2(\r\n",
        "    # これで集合を作図してくれるのかと思ったら、この数値をそのまま使う\r\n",
        "    # 引数は先頭から3つしか受け付けない？\r\n",
        "    # 集合で渡してやれば、和集合や積集合計算しそう\r\n",
        "    subsets = ( 11,13,17 ),\r\n",
        ")\r\n"
      ],
      "execution_count": null,
      "outputs": []
    },
    {
      "cell_type": "code",
      "metadata": {
        "id": "doMBCzhy-Hp5"
      },
      "source": [
        "columns = test_df.columns\r\n",
        "n_figs  = len( columns )\r\n",
        "n_cols = 4\r\n",
        "n_rows = n_figs // n_cols + 1 # 整数除算\r\n",
        "\r\n",
        "fig, axes = plt.subplots(\r\n",
        "    figsize = (n_cols * 3, n_rows * 3),\r\n",
        "    ncols = n_cols,\r\n",
        "    nrows = n_rows)\r\n",
        "\r\n",
        "# ravelは多次元リストを１次元のリストへ\r\n",
        "for c, ax in zip( columns, axes.ravel() ):\r\n",
        "    venn2(\r\n",
        "        subsets = ( set(train_df[c].unique()), set(test_df[c].unique()) ),\r\n",
        "        set_labels = ( 'Train', 'Test' ),\r\n",
        "        ax = ax\r\n",
        "    )\r\n",
        "    ax.set_title(c)\r\n",
        "\r\n",
        "fig.tight_layout()"
      ],
      "execution_count": null,
      "outputs": []
    },
    {
      "cell_type": "code",
      "metadata": {
        "id": "DN09A9OmCp0m",
        "colab": {
          "base_uri": "https://localhost:8080/"
        },
        "outputId": "2cfb0d77-c0ba-45be-fc86-af372629c2fd"
      },
      "source": [
        "train_df.columns"
      ],
      "execution_count": null,
      "outputs": [
        {
          "output_type": "execute_result",
          "data": {
            "text/plain": [
              "Index(['Name', 'Platform', 'Year_of_Release', 'Genre', 'Publisher', 'NA_Sales',\n",
              "       'EU_Sales', 'JP_Sales', 'Other_Sales', 'Global_Sales', 'Critic_Score',\n",
              "       'Critic_Count', 'User_Score', 'User_Count', 'Developer', 'Rating'],\n",
              "      dtype='object')"
            ]
          },
          "metadata": {
            "tags": []
          },
          "execution_count": 7
        }
      ]
    },
    {
      "cell_type": "markdown",
      "metadata": {
        "id": "k55gX4-sLkMo"
      },
      "source": [
        "# 欠損値の処理"
      ]
    },
    {
      "cell_type": "code",
      "metadata": {
        "id": "arO_Wz8bKAqx"
      },
      "source": [
        "# アノテーション\r\n",
        "# 引数( : )がpd.DataFrame, 返り値(->)もDataFrameを示してる。チェックされないのでコメント的なニュアンス\r\n",
        "def preprocess( input_df: pd.DataFrame ) -> pd.DataFrame:\r\n",
        "    output_df = input_df.copy()\r\n",
        "    # tbdはまだやってない\r\n",
        "    output_df['User_Score'] = input_df['User_Score'].replace('tbd', None).astype(float)\r\n",
        "    return output_df\r\n",
        "\r\n",
        "def create_continuous_features( input_df ):\r\n",
        "    # ここでtrain_df['--']みたいにグローバル使うと込み入ったときに大変になるから内部だけで完結するようにする\r\n",
        "    input_df = preprocess( input_df )\r\n",
        "    use_columns = [\r\n",
        "        # 連続変数\r\n",
        "        'Critic_Score',\r\n",
        "        'Critic_Count',\r\n",
        "        'User_Score',\r\n",
        "        'User_Count',\r\n",
        "        'Year_of_Release'\r\n",
        "    ]\r\n",
        "    return input_df[ use_columns ].copy()"
      ],
      "execution_count": 19,
      "outputs": []
    },
    {
      "cell_type": "code",
      "metadata": {
        "id": "3h3Tgs9BLyoD"
      },
      "source": [
        "# テスト\r\n",
        "# assert 条件式, 条件式がFalseの場合に出力するメッセージ\r\n",
        "# 今回は条件式だけ\r\n",
        "assert len( create_continuous_features( train_df ) )  == len( train_df )"
      ],
      "execution_count": 6,
      "outputs": []
    },
    {
      "cell_type": "code",
      "metadata": {
        "id": "Rk8hRBvGQreU"
      },
      "source": [
        "assert create_continuous_features(train_df.head()).equals(create_continuous_features(train_df.head()))"
      ],
      "execution_count": 7,
      "outputs": []
    },
    {
      "cell_type": "markdown",
      "metadata": {
        "id": "Z70O5KGaNjKe"
      },
      "source": [
        "## Booleanの特日量"
      ]
    },
    {
      "cell_type": "code",
      "metadata": {
        "id": "F7B8d7dpS_8S"
      },
      "source": [
        "def create_boolean_feature(input_df):\r\n",
        "    output_df = pd.DataFrame()\r\n",
        "\r\n",
        "    texts = [\r\n",
        "        'japan',\r\n",
        "        'nintendo'\r\n",
        "    ]\r\n",
        "    \"\"\"\r\n",
        "    DataFrameは真偽値のTrueだけを抽出する\r\n",
        "    str.lower():すべての文字を小文字,containの前にすることでtextsと一致させる\r\n",
        "    str.contains(x):xを含むとTrueとなるpandas.Seriesを返す\r\n",
        "    nanがあると抽出でnanを返すからfillnaで先に埋める\r\n",
        "    contains()まででboolだから最後int(0,1)に変換\r\n",
        "    \"\"\"\r\n",
        "    for t in texts:\r\n",
        "        output_df[f'Developer_has_{t}'] = input_df['Developer'].fillna('').str.lower().str.contains(t).astype(int)\r\n",
        "    return output_df"
      ],
      "execution_count": 20,
      "outputs": []
    },
    {
      "cell_type": "code",
      "metadata": {
        "id": "YDx3Pq8AhKa0"
      },
      "source": [
        "#train_df['Developer'].fillna('').head(20).str.lower().str.contains('tales').astype(int)"
      ],
      "execution_count": 9,
      "outputs": []
    },
    {
      "cell_type": "code",
      "metadata": {
        "id": "WF4lOlHThbRO",
        "colab": {
          "base_uri": "https://localhost:8080/"
        },
        "outputId": "67433da6-0f4a-461f-8763-ee79b642b2b6"
      },
      "source": [
        "create_boolean_feature(train_df).sum()"
      ],
      "execution_count": 10,
      "outputs": [
        {
          "output_type": "execute_result",
          "data": {
            "text/plain": [
              "Developer_has_japan       23\n",
              "Developer_has_nintendo    88\n",
              "dtype: int64"
            ]
          },
          "metadata": {
            "tags": []
          },
          "execution_count": 10
        }
      ]
    },
    {
      "cell_type": "code",
      "metadata": {
        "id": "pxWOu9ITmPvx"
      },
      "source": [
        "# https://github.com/nyk510/vivid/blob/master/vivid/utils.py\r\n",
        "from contextlib import contextmanager\r\n",
        "from time import time\r\n",
        "\r\n",
        "@contextmanager\r\n",
        "def timer(logger=None, format_str='{:.3f}[s]', prefix=None, suffix=None):\r\n",
        "    if prefix: format_str = str(prefix) + format_str\r\n",
        "    if suffix: format_str = format_str + str(suffix)\r\n",
        "    start = time()\r\n",
        "    yield\r\n",
        "    d = time() - start\r\n",
        "    out_str = format_str.format(d)\r\n",
        "    if logger:\r\n",
        "        logger.info(out_str)\r\n",
        "    else:\r\n",
        "        print(out_str)"
      ],
      "execution_count": 21,
      "outputs": []
    },
    {
      "cell_type": "code",
      "metadata": {
        "id": "KRhXInCUr2zx"
      },
      "source": [
        "from tqdm import tqdm\r\n",
        "\r\n",
        "def to_feature(input_df):\r\n",
        "    processors = [\r\n",
        "        create_continuous_features,\r\n",
        "        create_boolean_feature\r\n",
        "    ]\r\n",
        "    \r\n",
        "    out_df = pd.DataFrame()\r\n",
        "    \r\n",
        "    for func in tqdm(processors, total=len(processors)):\r\n",
        "        with timer(prefix='create ' + func.__name__ + ' '):\r\n",
        "            _df = func(input_df)\r\n",
        "        \r\n",
        "        assert len(_df) == len(input_df), func.__name__\r\n",
        "        out_df = pd.concat([out_df, _df], axis=1)\r\n",
        "        \r\n",
        "    return out_df"
      ],
      "execution_count": 22,
      "outputs": []
    },
    {
      "cell_type": "code",
      "metadata": {
        "colab": {
          "base_uri": "https://localhost:8080/"
        },
        "id": "cQxtJKf47DH_",
        "outputId": "1541ca64-a9dc-409c-8fad-df34b72377c5"
      },
      "source": [
        "train_feat_df = to_feature( train_df )\r\n",
        "test_feat_df = to_feature( test_df )"
      ],
      "execution_count": 23,
      "outputs": [
        {
          "output_type": "stream",
          "text": [
            "100%|██████████| 2/2 [00:00<00:00, 67.24it/s]\n",
            "100%|██████████| 2/2 [00:00<00:00, 82.77it/s]"
          ],
          "name": "stderr"
        },
        {
          "output_type": "stream",
          "text": [
            "create create_continuous_features 0.010[s]\n",
            "create create_boolean_feature 0.016[s]\n",
            "create create_continuous_features 0.007[s]\n",
            "create create_boolean_feature 0.015[s]\n"
          ],
          "name": "stdout"
        },
        {
          "output_type": "stream",
          "text": [
            "\n"
          ],
          "name": "stderr"
        }
      ]
    },
    {
      "cell_type": "markdown",
      "metadata": {
        "id": "HpRT0PgYp-eW"
      },
      "source": [
        "### LightGBM による CrossValidation を用いた学習"
      ]
    },
    {
      "cell_type": "code",
      "metadata": {
        "id": "dYyF9H7dqArf"
      },
      "source": [
        "import lightgbm as lgbm\r\n",
        "from sklearn.metrics import mean_squared_log_error\r\n",
        "\r\n",
        "def fit_lgbm( X,\r\n",
        "              y,\r\n",
        "              cv,\r\n",
        "              params: dict = None,\r\n",
        "              verbose: int = 10 ):\r\n",
        "    \"\"\" lightGBM を CrossValidation の枠組みで学習を行う function \"\"\"\r\n",
        "\r\n",
        "    # パラメータがないときは、空のdictで置き換える\r\n",
        "    if params is None:\r\n",
        "        params ={}\r\n",
        "\r\n",
        "    models = []\r\n",
        "    \"\"\" \r\n",
        "    training data の target と同じだけのゼロ配列を用意\r\n",
        "    float にしないと悲しい事件が起こるのでそこだけ注意\r\n",
        "    \"\"\"\r\n",
        "    oof_pred = np.zeros_like( y, dtype = np.float )\r\n",
        "    \r\n",
        "    for i, ( idx_train, idx_valid ) in enumerate( cv ):\r\n",
        "        # この部分が交差検証のところです。データセットを cv instance によって分割します\r\n",
        "        # training data を trian/valid に分割\r\n",
        "        x_train, y_train = X[idx_train], y[idx_train]\r\n",
        "        x_valid, y_valid = X[idx_valid], y[idx_valid]\r\n",
        "\r\n",
        "        # **付き引数は辞書型,メソッド内で値は変更できるが大本は変更なし\r\n",
        "        # **なしで渡すと元も変更されてしまう\r\n",
        "        clf = lgbm.LGBMRegressor( **params )\r\n",
        "\r\n",
        "        with timer(prefix='fit fold={} '.format(i + 1)):\r\n",
        "            clf.fit(x_train, y_train, \r\n",
        "                    eval_set=[(x_valid, y_valid)],  \r\n",
        "                    early_stopping_rounds=verbose,\r\n",
        "                    verbose=verbose)\r\n",
        "\r\n",
        "        pred_i = clf.predict(x_valid)\r\n",
        "\r\n",
        "        # global salesは０以下になるわけがないので, 0以下は0に丸め込み\r\n",
        "        # whereはcの３項演算子でみたらおｋ\r\n",
        "        pred_i = np.where(pred_i < 0, 0, pred_i)\r\n",
        "        oof_pred[idx_valid] = pred_i\r\n",
        "        models.append(clf)\r\n",
        "\r\n",
        "        # a ** b は aの b乗 .5は0.5で整数部が0は省略可\r\n",
        "        # RMSLE = numpy.sqrt(sklearn.metrics.mean_squared_log_error()) or {mean_squared_log_error(y_valid, pred_i) ** .5\r\n",
        "        print(f'Fold {i} RMSLE: {mean_squared_log_error(y_valid, pred_i) ** .5:.4f}')\r\n",
        "\r\n",
        "    score = mean_squared_log_error(y, oof_pred) ** .5\r\n",
        "    print('FINISHED | Whole RMSLE: {:.4f}'.format(score))\r\n",
        "    return oof_pred, models"
      ],
      "execution_count": 25,
      "outputs": []
    },
    {
      "cell_type": "code",
      "metadata": {
        "id": "P7jhI77DFM4U"
      },
      "source": [
        "params = {\r\n",
        "    'objective': 'rmse', # 目的関数. これの意味で最小となるようなパラメータを探します. \r\n",
        "    'learning_rate': .1, # 学習率. 小さいほどなめらかな決定境界が作られて性能向上に繋がる場合が多いです、がそれだけ木を作るため学習に時間がかかります\r\n",
        "    'max_depth': 6, # 木の深さ. 深い木を許容するほどより複雑な交互作用を考慮するようになります\r\n",
        "    'n_estimators': 10000, # 木の最大数. early_stopping という枠組みで木の数は制御されるようにしていますのでとても大きい値を指定しておきます.\r\n",
        "    'colsample_bytree': .5, # 木を作る際に考慮する特徴量の割合. 1以下を指定すると特徴をランダムに欠落させます。小さくすることで, まんべんなく特徴を使うという効果があります.\r\n",
        "    'importance_type': 'gain' # 特徴重要度計算のロジック(後述)\r\n",
        "}\r\n",
        "\r\n",
        "y = train_df['Global_Sales'].values"
      ],
      "execution_count": 15,
      "outputs": []
    },
    {
      "cell_type": "code",
      "metadata": {
        "id": "Cn0Jb_0CFRk_"
      },
      "source": [
        "from sklearn.model_selection import KFold\r\n",
        "\r\n",
        "fold = KFold(n_splits=5, shuffle=True, random_state=71)\r\n",
        "cv = list(fold.split(train_feat_df, y)) # もともとが generator なため明示的に list に変換する"
      ],
      "execution_count": 16,
      "outputs": []
    },
    {
      "cell_type": "code",
      "metadata": {
        "colab": {
          "base_uri": "https://localhost:8080/"
        },
        "id": "WQlAH3KCFVUQ",
        "outputId": "aa95fd15-2794-4d9a-9194-eaaa96a3c9d5"
      },
      "source": [
        "oof, models = fit_lgbm(train_feat_df.values, y, cv, params=params)"
      ],
      "execution_count": 26,
      "outputs": [
        {
          "output_type": "stream",
          "text": [
            "Training until validation scores don't improve for 10 rounds.\n",
            "[10]\tvalid_0's rmse: 154.85\n",
            "[20]\tvalid_0's rmse: 152.841\n",
            "[30]\tvalid_0's rmse: 151.486\n",
            "[40]\tvalid_0's rmse: 153.219\n",
            "Early stopping, best iteration is:\n",
            "[30]\tvalid_0's rmse: 151.486\n",
            "fit fold=1 0.040[s]\n",
            "Fold 0 RMSLE: 1.5242\n",
            "Training until validation scores don't improve for 10 rounds.\n",
            "[10]\tvalid_0's rmse: 240.156\n",
            "[20]\tvalid_0's rmse: 234.979\n",
            "[30]\tvalid_0's rmse: 234.198\n",
            "[40]\tvalid_0's rmse: 233.793\n",
            "Early stopping, best iteration is:\n",
            "[37]\tvalid_0's rmse: 233.526\n",
            "fit fold=2 0.037[s]\n",
            "Fold 1 RMSLE: 1.4675\n",
            "Training until validation scores don't improve for 10 rounds.\n",
            "[10]\tvalid_0's rmse: 146.814\n",
            "[20]\tvalid_0's rmse: 146.388\n",
            "Early stopping, best iteration is:\n",
            "[16]\tvalid_0's rmse: 145.77\n",
            "fit fold=3 0.023[s]\n",
            "Fold 2 RMSLE: 1.5313\n",
            "Training until validation scores don't improve for 10 rounds.\n",
            "[10]\tvalid_0's rmse: 145.936\n",
            "[20]\tvalid_0's rmse: 140.966\n",
            "[30]\tvalid_0's rmse: 140.182\n",
            "[40]\tvalid_0's rmse: 139.359\n",
            "[50]\tvalid_0's rmse: 139.978\n",
            "Early stopping, best iteration is:\n",
            "[41]\tvalid_0's rmse: 139.294\n",
            "fit fold=4 0.039[s]\n",
            "Fold 3 RMSLE: 1.4659\n",
            "Training until validation scores don't improve for 10 rounds.\n",
            "[10]\tvalid_0's rmse: 208.914\n",
            "[20]\tvalid_0's rmse: 203.649\n",
            "[30]\tvalid_0's rmse: 201.92\n",
            "[40]\tvalid_0's rmse: 199.904\n",
            "[50]\tvalid_0's rmse: 197.921\n",
            "[60]\tvalid_0's rmse: 197.627\n",
            "Early stopping, best iteration is:\n",
            "[54]\tvalid_0's rmse: 197.405\n",
            "fit fold=5 0.046[s]\n",
            "Fold 4 RMSLE: 1.4488\n",
            "FINISHED | Whole RMSLE: 1.4879\n"
          ],
          "name": "stdout"
        }
      ]
    },
    {
      "cell_type": "code",
      "metadata": {
        "id": "Ctr83rfMKvOz"
      },
      "source": [
        "models"
      ],
      "execution_count": null,
      "outputs": []
    },
    {
      "cell_type": "code",
      "metadata": {
        "id": "bCyiXiPfIedo"
      },
      "source": [
        "def visualize_importance(models, feat_train_df):\r\n",
        "    \"\"\"lightGBM の model 配列の feature importance を plot する\r\n",
        "    CVごとのブレを boxen plot として表現します.\r\n",
        "    \r\n",
        "    args:\r\n",
        "        models:\r\n",
        "            List of lightGBM models\r\n",
        "        feat_train_df:\r\n",
        "            学習時に使った DataFrame\r\n",
        "    \"\"\"\r\n",
        "    feature_importance_df = pd.DataFrame()\r\n",
        "    for i, model in enumerate(models):\r\n",
        "        _df = pd.DataFrame()\r\n",
        "        _df['feature_importance'] = model.feature_importances_\r\n",
        "        _df['column'] = feat_train_df.columns\r\n",
        "        _df['fold'] = i + 1\r\n",
        "        feature_importance_df = pd.concat([feature_importance_df, _df], axis=0, ignore_index=True)\r\n",
        "\r\n",
        "    order = feature_importance_df.groupby('column')\\\r\n",
        "        .sum()[['feature_importance']]\\\r\n",
        "        .sort_values('feature_importance', ascending=False).index[:50]\r\n",
        "\r\n",
        "    fig, ax = plt.subplots(figsize=(max(6, len(order) * .4), 7))\r\n",
        "    sns.boxenplot(data=feature_importance_df, x='column', y='feature_importance', order=order, ax=ax, palette='viridis')\r\n",
        "    ax.tick_params(axis='x', rotation=90)\r\n",
        "    ax.grid()\r\n",
        "    fig.tight_layout()\r\n",
        "    return fig, ax"
      ],
      "execution_count": 32,
      "outputs": []
    },
    {
      "cell_type": "code",
      "metadata": {
        "colab": {
          "base_uri": "https://localhost:8080/",
          "height": 513
        },
        "id": "CTn5-uTPLkgS",
        "outputId": "04fcb11d-7ad0-44a9-968a-c0b1851a21d1"
      },
      "source": [
        "fig, ax = visualize_importance(models, train_feat_df)"
      ],
      "execution_count": 41,
      "outputs": [
        {
          "output_type": "display_data",
          "data": {
            "image/png": "[encoded data removed]",
            "text/plain": [
              "<Figure size 432x504 with 1 Axes>"
            ]
          },
          "metadata": {
            "tags": []
          }
        }
      ]
    },
    {
      "cell_type": "code",
      "metadata": {
        "id": "vhIc8jV7L47R"
      },
      "source": [
        "pred = np.array([model.predict(test_feat_df.values) for model in models])\r\n",
        "pred = np.mean(pred, axis=0)\r\n",
        "pred = np.where(pred < 0, 0, pred)\r\n",
        "sub_df = pd.DataFrame({ 'Global_Sales': pred })\r\n",
        "sub_df.to_csv(os.path.join(OUTPUT_DIR, 'simple_submission.csv'), index=False)"
      ],
      "execution_count": 36,
      "outputs": []
    },
    {
      "cell_type": "code",
      "metadata": {
        "colab": {
          "base_uri": "https://localhost:8080/",
          "height": 575
        },
        "id": "brpcMag2Ll7s",
        "outputId": "7d06d699-3ce1-4a4a-cf37-a620c9ea9e95"
      },
      "source": [
        "fig, ax = plt.subplots(figsize=(8, 8))\r\n",
        "sns.distplot(np.log1p(pred), label='Test Predict')\r\n",
        "sns.distplot(np.log1p(oof), label='Out Of Fold')\r\n",
        "ax.legend()\r\n",
        "ax.grid()"
      ],
      "execution_count": 40,
      "outputs": [
        {
          "output_type": "stream",
          "text": [
            "/usr/local/lib/python3.6/dist-packages/seaborn/distributions.py:2551: FutureWarning: `distplot` is a deprecated function and will be removed in a future version. Please adapt your code to use either `displot` (a figure-level function with similar flexibility) or `histplot` (an axes-level function for histograms).\n",
            "  warnings.warn(msg, FutureWarning)\n",
            "/usr/local/lib/python3.6/dist-packages/seaborn/distributions.py:2551: FutureWarning: `distplot` is a deprecated function and will be removed in a future version. Please adapt your code to use either `displot` (a figure-level function with similar flexibility) or `histplot` (an axes-level function for histograms).\n",
            "  warnings.warn(msg, FutureWarning)\n"
          ],
          "name": "stderr"
        },
        {
          "output_type": "display_data",
          "data": {
            "image/png": "[encoded data removed]",
            "text/plain": [
              "<Figure size 576x576 with 1 Axes>"
            ]
          },
          "metadata": {
            "tags": []
          }
        }
      ]
    },
    {
      "cell_type": "code",
      "metadata": {
        "id": "M43xWpl_L1tk"
      },
      "source": [
        ""
      ],
      "execution_count": null,
      "outputs": []
    }
  ]
}