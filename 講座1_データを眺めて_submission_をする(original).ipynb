{
  "nbformat": 4,
  "nbformat_minor": 0,
  "metadata": {
    "kernelspec": {
      "display_name": "Python 3",
      "language": "python",
      "name": "python3"
    },
    "language_info": {
      "codemirror_mode": {
        "name": "ipython",
        "version": 3
      },
      "file_extension": ".py",
      "mimetype": "text/x-python",
      "name": "python",
      "nbconvert_exporter": "python",
      "pygments_lexer": "ipython3",
      "version": "3.7.7"
    },
    "colab": {
      "name": "講座1_データを眺めて_submission_をする.ipynb",
      "provenance": [],
      "include_colab_link": true
    }
  },
  "cells": [
    {
      "cell_type": "markdown",
      "metadata": {
        "id": "view-in-github",
        "colab_type": "text"
      },
      "source": [
        "<a href=\"https://colab.research.google.com/github/yosuke7040/atmacup8/blob/main/%E8%AC%9B%E5%BA%A71_%E3%83%87%E3%83%BC%E3%82%BF%E3%82%92%E7%9C%BA%E3%82%81%E3%81%A6_submission_%E3%82%92%E3%81%99%E3%82%8B(original).ipynb\" target=\"_parent\"><img src=\"https://colab.research.google.com/assets/colab-badge.svg\" alt=\"Open In Colab\"/></a>"
      ]
    },
    {
      "cell_type": "markdown",
      "metadata": {
        "id": "kG91m7_nkmUS"
      },
      "source": [
        "## Table of Contents\n",
        "\n",
        "* データを知る\n",
        "    * スキーマを理解する\n",
        "    * 現象を理解する\n",
        "    * 実際にデータを眺める\n",
        "* python を使ったデータの理解\n",
        "    * train / test の Report をさっくり作る\n",
        "    * 学習用のデータと予測するデータの差分を知る\n",
        "* モデリングのための特徴量作成\n",
        "    * 連続変数の特徴量\n",
        "    * Boolean の特徴量\n",
        "* LightGBM でモデル作る\n",
        "    * CrossValidation とは / なんで CrossValidation するの?\n",
        "    * LightGBM でのモデリング・パラメータ\n",
        "    * 特徴重要度 (FeatureImporatnce) の可視化\n",
        "    * モデルを使って予測・submissionの作成"
      ]
    },
    {
      "cell_type": "code",
      "metadata": {
        "id": "ucZk5MT1kmUX"
      },
      "source": [
        "import os\n",
        "\n",
        "import pandas as pd\n",
        "import matplotlib.pyplot as plt\n",
        "import seaborn as sns\n",
        "import numpy as np\n",
        "\n",
        "from pandas_profiling import ProfileReport # profile report を作る用\n",
        "from matplotlib_venn import venn2 # venn図を作成する用\n",
        "\n",
        "sns.set_style('ticks')"
      ],
      "execution_count": null,
      "outputs": []
    },
    {
      "cell_type": "code",
      "metadata": {
        "id": "AqhUV6RQkmUX"
      },
      "source": [
        "INPUT_DIR = '/analysis/data/atmaCup8/inputs/'\n",
        "OUTPUT_DIR = '/analysis/data/atmaCup8/outputs/'\n",
        "\n",
        "os.makedirs(OUTPUT_DIR, exist_ok=True)\n",
        "\n",
        "train_df = pd.read_csv(os.path.join(INPUT_DIR, 'train.csv'))\n",
        "test_df = pd.read_csv(os.path.join(INPUT_DIR, 'test.csv'))\n",
        "\n",
        "whole_df = pd.concat([train_df, test_df], ignore_index=True)"
      ],
      "execution_count": null,
      "outputs": []
    },
    {
      "cell_type": "code",
      "metadata": {
        "id": "IEJSqTeIkmUY",
        "outputId": "b47a0545-d19f-45c8-fa4e-e6d37e9698f9"
      },
      "source": [
        "train_df.head().T"
      ],
      "execution_count": null,
      "outputs": [
        {
          "output_type": "execute_result",
          "data": {
            "text/html": [
              "<div>\n",
              "<style scoped>\n",
              "    .dataframe tbody tr th:only-of-type {\n",
              "        vertical-align: middle;\n",
              "    }\n",
              "\n",
              "    .dataframe tbody tr th {\n",
              "        vertical-align: top;\n",
              "    }\n",
              "\n",
              "    .dataframe thead th {\n",
              "        text-align: right;\n",
              "    }\n",
              "</style>\n",
              "<table border=\"1\" class=\"dataframe\">\n",
              "  <thead>\n",
              "    <tr style=\"text-align: right;\">\n",
              "      <th></th>\n",
              "      <th>0</th>\n",
              "      <th>1</th>\n",
              "      <th>2</th>\n",
              "      <th>3</th>\n",
              "      <th>4</th>\n",
              "    </tr>\n",
              "  </thead>\n",
              "  <tbody>\n",
              "    <tr>\n",
              "      <th>Name</th>\n",
              "      <td>LEGO Batman: The Videogame</td>\n",
              "      <td>LEGO Indiana Jones: The Original Adventures</td>\n",
              "      <td>LEGO Batman: The Videogame</td>\n",
              "      <td>Combat</td>\n",
              "      <td>LEGO Harry Potter: Years 5-7</td>\n",
              "    </tr>\n",
              "    <tr>\n",
              "      <th>Platform</th>\n",
              "      <td>Wii</td>\n",
              "      <td>Wii</td>\n",
              "      <td>PSP</td>\n",
              "      <td>2600</td>\n",
              "      <td>Wii</td>\n",
              "    </tr>\n",
              "    <tr>\n",
              "      <th>Year_of_Release</th>\n",
              "      <td>NaN</td>\n",
              "      <td>NaN</td>\n",
              "      <td>NaN</td>\n",
              "      <td>NaN</td>\n",
              "      <td>NaN</td>\n",
              "    </tr>\n",
              "    <tr>\n",
              "      <th>Genre</th>\n",
              "      <td>Action</td>\n",
              "      <td>Action</td>\n",
              "      <td>Action</td>\n",
              "      <td>Action</td>\n",
              "      <td>Action</td>\n",
              "    </tr>\n",
              "    <tr>\n",
              "      <th>Publisher</th>\n",
              "      <td>Warner Bros. Interactive Entertainment</td>\n",
              "      <td>LucasArts</td>\n",
              "      <td>Warner Bros. Interactive Entertainment</td>\n",
              "      <td>Atari</td>\n",
              "      <td>Warner Bros. Interactive Entertainment</td>\n",
              "    </tr>\n",
              "    <tr>\n",
              "      <th>NA_Sales</th>\n",
              "      <td>180</td>\n",
              "      <td>151</td>\n",
              "      <td>56</td>\n",
              "      <td>117</td>\n",
              "      <td>69</td>\n",
              "    </tr>\n",
              "    <tr>\n",
              "      <th>EU_Sales</th>\n",
              "      <td>97</td>\n",
              "      <td>61</td>\n",
              "      <td>44</td>\n",
              "      <td>7</td>\n",
              "      <td>42</td>\n",
              "    </tr>\n",
              "    <tr>\n",
              "      <th>JP_Sales</th>\n",
              "      <td>0</td>\n",
              "      <td>0</td>\n",
              "      <td>0</td>\n",
              "      <td>0</td>\n",
              "      <td>0</td>\n",
              "    </tr>\n",
              "    <tr>\n",
              "      <th>Other_Sales</th>\n",
              "      <td>28</td>\n",
              "      <td>21</td>\n",
              "      <td>27</td>\n",
              "      <td>1</td>\n",
              "      <td>12</td>\n",
              "    </tr>\n",
              "    <tr>\n",
              "      <th>Global_Sales</th>\n",
              "      <td>306</td>\n",
              "      <td>234</td>\n",
              "      <td>128</td>\n",
              "      <td>125</td>\n",
              "      <td>124</td>\n",
              "    </tr>\n",
              "    <tr>\n",
              "      <th>Critic_Score</th>\n",
              "      <td>74</td>\n",
              "      <td>78</td>\n",
              "      <td>73</td>\n",
              "      <td>NaN</td>\n",
              "      <td>76</td>\n",
              "    </tr>\n",
              "    <tr>\n",
              "      <th>Critic_Count</th>\n",
              "      <td>17</td>\n",
              "      <td>22</td>\n",
              "      <td>5</td>\n",
              "      <td>NaN</td>\n",
              "      <td>8</td>\n",
              "    </tr>\n",
              "    <tr>\n",
              "      <th>User_Score</th>\n",
              "      <td>7.9</td>\n",
              "      <td>6.6</td>\n",
              "      <td>7.4</td>\n",
              "      <td>NaN</td>\n",
              "      <td>7.8</td>\n",
              "    </tr>\n",
              "    <tr>\n",
              "      <th>User_Count</th>\n",
              "      <td>22</td>\n",
              "      <td>28</td>\n",
              "      <td>10</td>\n",
              "      <td>NaN</td>\n",
              "      <td>13</td>\n",
              "    </tr>\n",
              "    <tr>\n",
              "      <th>Developer</th>\n",
              "      <td>Traveller's Tales</td>\n",
              "      <td>Traveller's Tales</td>\n",
              "      <td>Traveller's Tales</td>\n",
              "      <td>NaN</td>\n",
              "      <td>Traveller's Tales</td>\n",
              "    </tr>\n",
              "    <tr>\n",
              "      <th>Rating</th>\n",
              "      <td>E10+</td>\n",
              "      <td>E10+</td>\n",
              "      <td>E10+</td>\n",
              "      <td>NaN</td>\n",
              "      <td>E10+</td>\n",
              "    </tr>\n",
              "  </tbody>\n",
              "</table>\n",
              "</div>"
            ],
            "text/plain": [
              "                                                      0  \\\n",
              "Name                         LEGO Batman: The Videogame   \n",
              "Platform                                            Wii   \n",
              "Year_of_Release                                     NaN   \n",
              "Genre                                            Action   \n",
              "Publisher        Warner Bros. Interactive Entertainment   \n",
              "NA_Sales                                            180   \n",
              "EU_Sales                                             97   \n",
              "JP_Sales                                              0   \n",
              "Other_Sales                                          28   \n",
              "Global_Sales                                        306   \n",
              "Critic_Score                                         74   \n",
              "Critic_Count                                         17   \n",
              "User_Score                                          7.9   \n",
              "User_Count                                           22   \n",
              "Developer                             Traveller's Tales   \n",
              "Rating                                             E10+   \n",
              "\n",
              "                                                           1  \\\n",
              "Name             LEGO Indiana Jones: The Original Adventures   \n",
              "Platform                                                 Wii   \n",
              "Year_of_Release                                          NaN   \n",
              "Genre                                                 Action   \n",
              "Publisher                                          LucasArts   \n",
              "NA_Sales                                                 151   \n",
              "EU_Sales                                                  61   \n",
              "JP_Sales                                                   0   \n",
              "Other_Sales                                               21   \n",
              "Global_Sales                                             234   \n",
              "Critic_Score                                              78   \n",
              "Critic_Count                                              22   \n",
              "User_Score                                               6.6   \n",
              "User_Count                                                28   \n",
              "Developer                                  Traveller's Tales   \n",
              "Rating                                                  E10+   \n",
              "\n",
              "                                                      2       3  \\\n",
              "Name                         LEGO Batman: The Videogame  Combat   \n",
              "Platform                                            PSP    2600   \n",
              "Year_of_Release                                     NaN     NaN   \n",
              "Genre                                            Action  Action   \n",
              "Publisher        Warner Bros. Interactive Entertainment   Atari   \n",
              "NA_Sales                                             56     117   \n",
              "EU_Sales                                             44       7   \n",
              "JP_Sales                                              0       0   \n",
              "Other_Sales                                          27       1   \n",
              "Global_Sales                                        128     125   \n",
              "Critic_Score                                         73     NaN   \n",
              "Critic_Count                                          5     NaN   \n",
              "User_Score                                          7.4     NaN   \n",
              "User_Count                                           10     NaN   \n",
              "Developer                             Traveller's Tales     NaN   \n",
              "Rating                                             E10+     NaN   \n",
              "\n",
              "                                                      4  \n",
              "Name                       LEGO Harry Potter: Years 5-7  \n",
              "Platform                                            Wii  \n",
              "Year_of_Release                                     NaN  \n",
              "Genre                                            Action  \n",
              "Publisher        Warner Bros. Interactive Entertainment  \n",
              "NA_Sales                                             69  \n",
              "EU_Sales                                             42  \n",
              "JP_Sales                                              0  \n",
              "Other_Sales                                          12  \n",
              "Global_Sales                                        124  \n",
              "Critic_Score                                         76  \n",
              "Critic_Count                                          8  \n",
              "User_Score                                          7.8  \n",
              "User_Count                                           13  \n",
              "Developer                             Traveller's Tales  \n",
              "Rating                                             E10+  "
            ]
          },
          "metadata": {
            "tags": []
          },
          "execution_count": 5
        }
      ]
    },
    {
      "cell_type": "markdown",
      "metadata": {
        "id": "CW_GTj2CkmUY"
      },
      "source": [
        "## データを知る\n",
        "\n",
        "まずはじめに、どういうデータを取り扱って、何を予測してその結果がどのように評価されるのかについての理解を深めます。\n",
        "\n",
        "### スキーマ(構造)を確認する\n",
        "\n",
        "一番初めにやることは、コードを書くことではなくデータのスキーマと実際にどういうデータが入っているのかを確認することです。\n",
        "\n",
        "自分が使える情報は何か・それはどのような構造を持っているか・実際にどういう値が入っているかをしっかりと把握してください。\n",
        "今回のデータセットは `train.csv` および `test.csv` しかないシンプルなものでしたが、一般には複数のテーブルが 1-1 もしくは 1-m / n-m の関係で紐付いていることが多いです。複雑な関係性になると、うっかり見落としていたと言ったことが起こりえますので、予測の元になる情報として何が使えるのかに関してもれなく理科しておくことは基本的ですがとても大事です。\n",
        "\n",
        "### 現象を理解する\n",
        "\n",
        "次に「このデータはどういうふうに作られているか」について考えてみてください。特殊なデータを除いて、データとは何らかの行動のあしあとですから物理的・時間的な制約を多く受けます。あしあとに関して想像をふくらませることで Machine Learning のアルゴリズムに対してよりよい情報を作って渡すことができます。\n",
        "\n",
        "### 実際に眺める\n",
        "\n",
        "データは実際に自分で見てください。エクセルで開いて、フィルタなどを活用しながらデータを確認することでデータの肌感を知ることができます。\n",
        "\n",
        "例えば...\n",
        "\n",
        "* Null がめっちゃ同時に起こっている → 特定の場合には2つの情報が同時に欠落するようなオペレーションになっているかも? というようなインサイト\n",
        "* テキストのカラムでの表記ゆれ。人間が見たほうがすぐわかります。"
      ]
    },
    {
      "cell_type": "markdown",
      "metadata": {
        "id": "M0VLez3ekmUZ"
      },
      "source": [
        "## pythonを使ったデータの理解\n",
        "\n",
        "### train / test の Report をさっくり作る\n",
        "\n",
        "pandas profiling というライブラリがあり、こちらを使うとデータフレームの統計量を一気に確認することが可能です。簡単な使い方は `ProfileReport` class に可視化したいデータフレームを渡して repot を作り `to_file` を呼び出して html ファイルとして保存する方法です。\n",
        "\n",
        "保存した html をブラウザなどで開くと以下のような統計量をカラムごとに確認できてとても便利です。\n",
        "\n",
        "* ユニークな値の数\n",
        "* 頻度の高い値\n",
        "* 意味の無いカラムや Null が多いカラムかどうか ...etc"
      ]
    },
    {
      "cell_type": "code",
      "metadata": {
        "id": "IyYkyFM3kmUZ",
        "outputId": "5e5df74b-2e42-4afe-dbe7-5b8bc0bac184",
        "colab": {
          "referenced_widgets": [
            "6459a5d116f84f4ba40c883ef8ec7046",
            "9c5a7cc6d28b42dc909c2d27194a4b07",
            "1fb3cdc41ffd493182f76ffafeab4d3a",
            "1950bdced14b46729071e429bd1d20c7"
          ]
        }
      },
      "source": [
        "report = ProfileReport(train_df)\n",
        "report.to_file(os.path.join(OUTPUT_DIR, 'train_report.html'))"
      ],
      "execution_count": null,
      "outputs": [
        {
          "output_type": "display_data",
          "data": {
            "application/vnd.jupyter.widget-view+json": {
              "model_id": "6459a5d116f84f4ba40c883ef8ec7046",
              "version_major": 2,
              "version_minor": 0
            },
            "text/plain": [
              "HBox(children=(FloatProgress(value=0.0, description='Summarize dataset', max=30.0, style=ProgressStyle(descrip…"
            ]
          },
          "metadata": {
            "tags": []
          }
        },
        {
          "output_type": "stream",
          "text": [
            "\n"
          ],
          "name": "stdout"
        },
        {
          "output_type": "display_data",
          "data": {
            "application/vnd.jupyter.widget-view+json": {
              "model_id": "9c5a7cc6d28b42dc909c2d27194a4b07",
              "version_major": 2,
              "version_minor": 0
            },
            "text/plain": [
              "HBox(children=(FloatProgress(value=0.0, description='Generate report structure', max=1.0, style=ProgressStyle(…"
            ]
          },
          "metadata": {
            "tags": []
          }
        },
        {
          "output_type": "stream",
          "text": [
            "\n"
          ],
          "name": "stdout"
        },
        {
          "output_type": "display_data",
          "data": {
            "application/vnd.jupyter.widget-view+json": {
              "model_id": "1fb3cdc41ffd493182f76ffafeab4d3a",
              "version_major": 2,
              "version_minor": 0
            },
            "text/plain": [
              "HBox(children=(FloatProgress(value=0.0, description='Render HTML', max=1.0, style=ProgressStyle(description_wi…"
            ]
          },
          "metadata": {
            "tags": []
          }
        },
        {
          "output_type": "stream",
          "text": [
            "\n"
          ],
          "name": "stdout"
        },
        {
          "output_type": "display_data",
          "data": {
            "application/vnd.jupyter.widget-view+json": {
              "model_id": "1950bdced14b46729071e429bd1d20c7",
              "version_major": 2,
              "version_minor": 0
            },
            "text/plain": [
              "HBox(children=(FloatProgress(value=0.0, description='Export report to file', max=1.0, style=ProgressStyle(desc…"
            ]
          },
          "metadata": {
            "tags": []
          }
        },
        {
          "output_type": "stream",
          "text": [
            "\n"
          ],
          "name": "stdout"
        }
      ]
    },
    {
      "cell_type": "markdown",
      "metadata": {
        "id": "n5hEiIEQkmUZ"
      },
      "source": [
        "### 学習用のデータと予測するデータの差分を知る\n",
        "\n",
        "* ref: [カテゴリ値を持つカラムのベン図 | takapy san](https://www.guruguru.science/competitions/13/discussions/9983c457-6fcc-4346-a6ae-6c5eb3e785ec/)\n",
        "\n",
        "学習データと予測データは(当たり前ですが)別のデータです。この別の度合いが強すぎる場合、特にカテゴリのカラムでテストデータ・学習データでかぶっていないものが多い場合には注意をする必要があります。(より一般的に言うとテストデータと学習データの分布が異なるもの一般が要注意な特徴量になります。)\n",
        "\n",
        "分布が違いすぎるというのは即ち「学習していない状況で予測をする」ことです。\n",
        "分布が違うと、学習データで見積もった予測性能とテストデータでの予測性能が乖離してしまう場合がありますので、そういったカラムを特徴量として使う場合には注意が必要です。\n",
        "\n",
        "> 例: 「Nintendo64」のゲームだったらとても良く予測できるモデルを作って、テストで「PS4」のゲームを予測させて良い性能が出るでしょうか。"
      ]
    },
    {
      "cell_type": "code",
      "metadata": {
        "id": "479JmzX5kmUZ",
        "outputId": "fee7b420-d32c-4ed3-81d3-7a45d2d34e07"
      },
      "source": [
        "c = 'Year_of_Release'\n",
        "\n",
        "fig, ax = plt.subplots(figsize=(5, 3))\n",
        "venn2(\n",
        "    subsets=(set(train_df[c].unique()), set(test_df[c].unique())),\n",
        "    set_labels=('Train', 'Test'),\n",
        "    ax=ax\n",
        ")\n",
        "ax.set_title(c)"
      ],
      "execution_count": null,
      "outputs": [
        {
          "output_type": "execute_result",
          "data": {
            "text/plain": [
              "Text(0.5, 1.0, 'Year_of_Release')"
            ]
          },
          "metadata": {
            "tags": []
          },
          "execution_count": 7
        },
        {
          "output_type": "display_data",
          "data": {
            "image/png": "[encoded data removed]",
            "text/plain": [
              "<Figure size 360x216 with 1 Axes>"
            ]
          },
          "metadata": {
            "tags": []
          }
        }
      ]
    },
    {
      "cell_type": "code",
      "metadata": {
        "id": "oj_QGIeQkmUa",
        "outputId": "b314834d-6122-4d9c-8a75-2641557ab19f"
      },
      "source": [
        "columns = test_df.columns\n",
        "n_figs = len(columns)\n",
        "n_cols = 4\n",
        "n_rows = n_figs // n_cols + 1\n",
        "\n",
        "fig, axes = plt.subplots(figsize=(n_cols * 3, n_rows * 3), ncols=n_cols, nrows=n_rows)\n",
        "\n",
        "for c, ax in zip(columns, axes.ravel()):\n",
        "    venn2(\n",
        "        subsets=(set(train_df[c].unique()), set(test_df[c].unique())),\n",
        "        set_labels=('Train', 'Test'),\n",
        "        ax=ax\n",
        "    )\n",
        "    ax.set_title(c)\n",
        "\n",
        "fig.tight_layout()"
      ],
      "execution_count": null,
      "outputs": [
        {
          "output_type": "display_data",
          "data": {
            "image/png": "[encoded data removed]",
            "text/plain": [
              "<Figure size 864x648 with 12 Axes>"
            ]
          },
          "metadata": {
            "tags": []
          }
        }
      ]
    },
    {
      "cell_type": "markdown",
      "metadata": {
        "id": "zyDsjYNjkmUa"
      },
      "source": [
        "### その他の方法\n",
        "\n",
        "* [Sweetvizを用いた訓練データとテストデータの比較 | hakubishin3 san](https://www.guruguru.science/competitions/13/discussions/dc25339c-dedc-453e-aaeb-c52543ccd3bc/)"
      ]
    },
    {
      "cell_type": "markdown",
      "metadata": {
        "id": "RZMBae4JkmUa"
      },
      "source": [
        "## モデリングのための特徴量作成\n",
        "\n",
        "### 特徴量とは何か\n",
        "\n",
        "予測変数に紐付いた説明変数のことを「特徴量」と呼びます。近年の進歩でたくさんのアルゴリズムが開発され予測能力は向上していますが、アルゴリズムに入力するデータは人間が用意しなくてはなりません。この予測の元になるデータを特徴量とよび、アルゴリズムが理解しやすい特徴量を作ることを特徴量エンジニアリングと呼びます。\n",
        "\n",
        "### どうやって作れば良い?\n",
        "\n",
        "基本的に人間が予測する時と同じように「何があったら予測しやすいかなあ」を考えていくことが多いです。\n",
        "\n",
        "### 連続変数の特徴量\n",
        "\n",
        "連続変数の場合そのままモデルが解釈出来るため、基本的にはそのまま予測に用いることが可能です。\n",
        "\n",
        "#### 欠損値の処理\n",
        "\n",
        "通常欠損値があると欠損のことを考慮する必要があります(モデルによっては欠損値が扱えない場合があるからです)。その場合平均値や中央値、更には別の方法で欠損を埋める必要がありますが lightGBM などの GBDT は欠損をそのまま自然に扱えるため、基本的に気にする必要はありません。\n",
        "\n",
        "#### 暗黙的な仮定を意識する\n",
        "\n",
        "連続変数とみなす場合には、その大小関係に意味があると思っていることと同値であることに注意してください。大小関係に意味がない値の場合には、連続変数ではなくて、カテゴリ変数とみなして処理を行ったほうが適切な場合があります。\n",
        "\n",
        "勾配ブースティングのように連続値とみなしてもある程度うまくやってくれるアルゴリズムではそこまでシビアに考える必要はありませんが、線形モデルのように値の大小と予測結果が線形に比例するようなモデルでは大小に意味がないものを連続値として扱うと予測性能が悪化する場合があります。  \n",
        "(例えば「ユーザーごとの缶コーヒー購買量」を予測するときに「年齢」を数値としてみなしてよいか?)\n",
        "\n",
        "よく知られている例では時間 (0-24)があります。時間は 0 と 24 がつながっている (1週して元に戻ってくる) ので1次元で表現せずに極座標の角度として捉えて cos(hour / 12 pi) / sin (hour / 12 * pi) の2次元で表現する、等があります。"
      ]
    },
    {
      "cell_type": "code",
      "metadata": {
        "id": "81XHzdSgkmUa",
        "outputId": "d3ddb7bf-40b0-47f2-be63-0b52109d2cea"
      },
      "source": [
        "train_df.columns"
      ],
      "execution_count": null,
      "outputs": [
        {
          "output_type": "execute_result",
          "data": {
            "text/plain": [
              "Index(['Name', 'Platform', 'Year_of_Release', 'Genre', 'Publisher', 'NA_Sales',\n",
              "       'EU_Sales', 'JP_Sales', 'Other_Sales', 'Global_Sales', 'Critic_Score',\n",
              "       'Critic_Count', 'User_Score', 'User_Count', 'Developer', 'Rating'],\n",
              "      dtype='object')"
            ]
          },
          "metadata": {
            "tags": []
          },
          "execution_count": 9
        }
      ]
    },
    {
      "cell_type": "code",
      "metadata": {
        "id": "9pd9iuIJkmUa"
      },
      "source": [
        "def preprocess(input_df: pd.DataFrame) -> pd.DataFrame:\n",
        "    output_df = input_df.copy()\n",
        "    output_df['User_Score'] = input_df['User_Score'].replace('tbd', None).astype(float)\n",
        "    return output_df\n",
        "\n",
        "def create_continuous_features(input_df):\n",
        "    input_df = preprocess(input_df)\n",
        "    use_columns = [\n",
        "        # 連続変数\n",
        "        'Critic_Score',\n",
        "        'Critic_Count', \n",
        "        'User_Score', \n",
        "        'User_Count',\n",
        "        'Year_of_Release'\n",
        "    ]\n",
        "    return input_df[use_columns].copy()"
      ],
      "execution_count": null,
      "outputs": []
    },
    {
      "cell_type": "code",
      "metadata": {
        "id": "Z0OTvsz-kmUb"
      },
      "source": [
        "assert len(create_continuous_features(train_df)) == len(train_df)"
      ],
      "execution_count": null,
      "outputs": []
    },
    {
      "cell_type": "code",
      "metadata": {
        "id": "0FstZjORkmUb"
      },
      "source": [
        "assert create_continuous_features(train_df.head()).equals(create_continuous_features(train_df.head()))"
      ],
      "execution_count": null,
      "outputs": []
    },
    {
      "cell_type": "markdown",
      "metadata": {
        "id": "ZqParSoskmUb"
      },
      "source": [
        "### Booleanの特徴量\n",
        "\n",
        "特定の条件を満たしているかどうか, を表す特徴量です。例えばテキストカラムに特定の文字列が存在しているかどうか、などが該当します。"
      ]
    },
    {
      "cell_type": "code",
      "metadata": {
        "id": "pXzsIUV2kmUb"
      },
      "source": [
        "def create_boolean_feature(input_df):\n",
        "    output_df = pd.DataFrame()\n",
        "    \n",
        "    texts = [\n",
        "        'japan', 'nintendo'\n",
        "    ]\n",
        "    \n",
        "    for t in texts:\n",
        "        output_df[f'Developer_has_{t}'] = input_df['Developer'].fillna('').str.lower().str.contains(t).astype(int)\n",
        "    return output_df"
      ],
      "execution_count": null,
      "outputs": []
    },
    {
      "cell_type": "code",
      "metadata": {
        "id": "uq9mMrZekmUb",
        "outputId": "3ee02e9e-2ce3-4d40-ab22-13da8e7d3f38"
      },
      "source": [
        "create_boolean_feature(train_df).sum()"
      ],
      "execution_count": null,
      "outputs": [
        {
          "output_type": "execute_result",
          "data": {
            "text/plain": [
              "Developer_has_japan       23\n",
              "Developer_has_nintendo    88\n",
              "dtype: int64"
            ]
          },
          "metadata": {
            "tags": []
          },
          "execution_count": 36
        }
      ]
    },
    {
      "cell_type": "code",
      "metadata": {
        "id": "jrsBS6VvkmUb"
      },
      "source": [
        "# https://github.com/nyk510/vivid/blob/master/vivid/utils.py\n",
        "from contextlib import contextmanager\n",
        "from time import time\n",
        "\n",
        "@contextmanager\n",
        "def timer(logger=None, format_str='{:.3f}[s]', prefix=None, suffix=None):\n",
        "    if prefix: format_str = str(prefix) + format_str\n",
        "    if suffix: format_str = format_str + str(suffix)\n",
        "    start = time()\n",
        "    yield\n",
        "    d = time() - start\n",
        "    out_str = format_str.format(d)\n",
        "    if logger:\n",
        "        logger.info(out_str)\n",
        "    else:\n",
        "        print(out_str)"
      ],
      "execution_count": null,
      "outputs": []
    },
    {
      "cell_type": "code",
      "metadata": {
        "id": "-jhfB_gQkmUc"
      },
      "source": [
        "from tqdm import tqdm\n",
        "\n",
        "def to_feature(input_df):\n",
        "    processors = [\n",
        "        create_continuous_features,\n",
        "        create_boolean_feature\n",
        "    ]\n",
        "    \n",
        "    out_df = pd.DataFrame()\n",
        "    \n",
        "    for func in tqdm(processors, total=len(processors)):\n",
        "        with timer(prefix='create ' + func.__name__ + ' '):\n",
        "            _df = func(input_df)\n",
        "        \n",
        "        assert len(_df) == len(input_df), func.__name__\n",
        "        out_df = pd.concat([out_df, _df], axis=1)\n",
        "        \n",
        "    return out_df"
      ],
      "execution_count": null,
      "outputs": []
    },
    {
      "cell_type": "code",
      "metadata": {
        "id": "68dy5tLgkmUc",
        "outputId": "27459b4e-5b80-4dc1-d0f3-2a675199f9f3"
      },
      "source": [
        "train_feat_df = to_feature(train_df)\n",
        "test_feat_df = to_feature(test_df)"
      ],
      "execution_count": null,
      "outputs": [
        {
          "output_type": "stream",
          "text": [
            "100%|██████████| 2/2 [00:00<00:00, 59.26it/s]\n",
            "100%|██████████| 2/2 [00:00<00:00, 60.08it/s]"
          ],
          "name": "stderr"
        },
        {
          "output_type": "stream",
          "text": [
            "create create_continuous_features 0.005[s]\n",
            "create create_boolean_feature 0.025[s]\n",
            "create create_continuous_features 0.005[s]\n",
            "create create_boolean_feature 0.025[s]\n"
          ],
          "name": "stdout"
        },
        {
          "output_type": "stream",
          "text": [
            "\n"
          ],
          "name": "stderr"
        }
      ]
    },
    {
      "cell_type": "code",
      "metadata": {
        "id": "Bx6UGZI-kmUc"
      },
      "source": [
        "assert len(test_feat_df) == len(test_df)"
      ],
      "execution_count": null,
      "outputs": []
    },
    {
      "cell_type": "markdown",
      "metadata": {
        "id": "hMwQ5VXpkmUc"
      },
      "source": [
        "## LightGBM による学習\n",
        "\n",
        "特徴量を作成できたので、次に LightGBM による学習を行っていきます。この時大事になるのが交差検証 (Cross Validation) という考え方です。\n",
        "\n",
        "### Cross Validation とは\n",
        "\n",
        "Cross Validation とは学習用のデータセットを複数に分割してそれぞれの分割で学習・検証のデータセットを作り、モデルの性能を見積もる枠組みのことです。\n",
        "\n",
        "### なんで Cross Validation するの?\n",
        "\n",
        "なぜわざわざ分割するの? (そのまま全部学習で使っちゃえばいいじゃない?) と思われるのが普通だと思います。なぜ分割するかというと学習データの中で今の枠組みの性能(枠組みと言っているのは特徴量・モデルの構成もろもろ全部が含まれるためです)を評価したいからです。手元で評価ができないとLBに出してみて一喜一憂するしかなくなり、結果publicLBにオーバーフィットしてしまうのでよろしくないです。\n",
        "\n",
        "> 仕事的な観点で言ってもLBに出すというのはデプロイ(本番へ反映すること)ですから、本番に出さないとモデルの良し悪しがわからないのはよろしくないですよね?\n",
        "\n",
        "一番ナイーブな戦略は `KFold` と呼ばれるものです。これは何も考えずにとにかくランダムに学習データを分割します。\n",
        "\n",
        "![](https://scikit-learn.org/stable/_images/sphx_glr_plot_cv_indices_0041.png)\n",
        "\n",
        "その他にターゲットの分布が同じになるように分割する Stratified と呼ばれる方法もあります。(今回行なうのはこの方法です)\n",
        "\n",
        "![](https://scikit-learn.org/stable/_images/sphx_glr_plot_cv_indices_0071.png)\n",
        "\n",
        "あとは「各分割で特定のグループが重ならないようにする」Group K Fold もよく使われます。(よく見ると 0 ~ 4 で group の行の色が被らないようになっているのわかりますか?)\n",
        "\n",
        "![](https://scikit-learn.org/stable/_images/sphx_glr_plot_cv_indices_0051.png)\n",
        "\n",
        "その他にも時系列で区切る time split という方法もあります。どれを使えばよいかは test データがどのように構成されているか依存なので、つどつどデータを見て決定します。\n",
        "\n",
        "### CrossValidation の注意点\n",
        "\n",
        "cross validation を行なう場合には train / test の関係性と cv の各 fold での学習・検証データの関係性が出来る限り似た関係性になる必要があります。これは fold ごとの学習で、train 全体で学習したときの test での性能を近似する必要があるためです。したがって今渡されている train / test の関係性を考えたうえで CV の方法についても考える必要があります。(特にtestが未来の情報である場合などとても大切です)"
      ]
    },
    {
      "cell_type": "markdown",
      "metadata": {
        "id": "A55WDMHWkmUc"
      },
      "source": [
        "### LightGBM による CrossValidation を用いた学習"
      ]
    },
    {
      "cell_type": "code",
      "metadata": {
        "id": "SpJK752ekmUd"
      },
      "source": [
        "import lightgbm as lgbm\n",
        "from sklearn.metrics import mean_squared_log_error\n",
        "\n",
        "def fit_lgbm(X, \n",
        "             y, \n",
        "             cv, \n",
        "             params: dict=None, \n",
        "             verbose: int=10):\n",
        "    \"\"\"lightGBM を CrossValidation の枠組みで学習を行なう function\"\"\"\n",
        "\n",
        "    # パラメータがないときは、空の dict で置き換える\n",
        "    if params is None:\n",
        "        params = {}\n",
        "\n",
        "    models = []\n",
        "    # training data の target と同じだけのゼロ配列を用意\n",
        "    # float にしないと悲しい事件が起こるのでそこだけ注意\n",
        "    oof_pred = np.zeros_like(y, dtype=np.float)\n",
        "\n",
        "    for i, (idx_train, idx_valid) in enumerate(cv): \n",
        "        # この部分が交差検証のところです。データセットを cv instance によって分割します\n",
        "        # training data を trian/valid に分割\n",
        "        x_train, y_train = X[idx_train], y[idx_train]\n",
        "        x_valid, y_valid = X[idx_valid], y[idx_valid]\n",
        "\n",
        "        clf = lgbm.LGBMRegressor(**params)\n",
        "        \n",
        "        with timer(prefix='fit fold={} '.format(i + 1)):\n",
        "            clf.fit(x_train, y_train, \n",
        "                    eval_set=[(x_valid, y_valid)],  \n",
        "                    early_stopping_rounds=verbose,\n",
        "                    verbose=verbose)\n",
        "\n",
        "        pred_i = clf.predict(x_valid)\n",
        "        \n",
        "        # global sales はゼロ以下になるわけがないので 0 以下は 0 に丸める\n",
        "        pred_i = np.where(pred_i < 0, 0, pred_i)\n",
        "        oof_pred[idx_valid] = pred_i\n",
        "        models.append(clf)\n",
        "\n",
        "        print(f'Fold {i} RMSLE: {mean_squared_log_error(y_valid, pred_i) ** .5:.4f}')\n",
        "\n",
        "    score = mean_squared_log_error(y, oof_pred) ** .5\n",
        "    print('FINISHED | Whole RMSLE: {:.4f}'.format(score))\n",
        "    return oof_pred, models"
      ],
      "execution_count": null,
      "outputs": []
    },
    {
      "cell_type": "markdown",
      "metadata": {
        "id": "XiQoO8UbkmUd"
      },
      "source": [
        "### parameter について\n",
        "\n",
        "LightGBM などの GBDT のパラメータは、そこまでセンシティブではありません。しかし、内部的にどういう意味を持つのかを知っておくと、問題ごとにどういうパラメータが良いかの感覚がわかったり、チューニングする際にも有効なパラメータに絞ってチューニングできますので、重要な変数に関してはその意味についてざっと目を通しておくことをおすすめします。\n",
        "\n",
        "以下参考文献です。\n",
        "\n",
        "* [勾配ブースティングで大事なパラメータの気持ち](https://nykergoto.hatenablog.jp/entry/2019/03/29/%E5%8B%BE%E9%85%8D%E3%83%96%E3%83%BC%E3%82%B9%E3%83%86%E3%82%A3%E3%83%B3%E3%82%B0%E3%81%A7%E5%A4%A7%E4%BA%8B%E3%81%AA%E3%83%91%E3%83%A9%E3%83%A1%E3%83%BC%E3%82%BF%E3%81%AE%E6%B0%97%E6%8C%81%E3%81%A1): 僕の書いた記事。日本語です。\n",
        "* [Parameters Tuning](https://lightgbm.readthedocs.io/en/latest/Parameters-Tuning.html): lightGBM 公式のパラメータチューニングガイド。英語です。"
      ]
    },
    {
      "cell_type": "code",
      "metadata": {
        "id": "XZ_us0g8kmUd"
      },
      "source": [
        "params = {\n",
        "    'objective': 'rmse', # 目的関数. これの意味で最小となるようなパラメータを探します. \n",
        "    'learning_rate': .1, # 学習率. 小さいほどなめらかな決定境界が作られて性能向上に繋がる場合が多いです、がそれだけ木を作るため学習に時間がかかります\n",
        "    'max_depth': 6, # 木の深さ. 深い木を許容するほどより複雑な交互作用を考慮するようになります\n",
        "    'n_estimators': 10000, # 木の最大数. early_stopping という枠組みで木の数は制御されるようにしていますのでとても大きい値を指定しておきます.\n",
        "    'colsample_bytree': .5, # 木を作る際に考慮する特徴量の割合. 1以下を指定すると特徴をランダムに欠落させます。小さくすることで, まんべんなく特徴を使うという効果があります.\n",
        "    'importance_type': 'gain' # 特徴重要度計算のロジック(後述)\n",
        "}\n",
        "\n",
        "y = train_df['Global_Sales'].values"
      ],
      "execution_count": null,
      "outputs": []
    },
    {
      "cell_type": "code",
      "metadata": {
        "id": "PAvs04dekmUe"
      },
      "source": [
        "from sklearn.model_selection import KFold\n",
        "\n",
        "fold = KFold(n_splits=5, shuffle=True, random_state=71)\n",
        "cv = list(fold.split(train_feat_df, y)) # もともとが generator なため明示的に list に変換する"
      ],
      "execution_count": null,
      "outputs": []
    },
    {
      "cell_type": "code",
      "metadata": {
        "id": "uFPhyBN8kmUe",
        "outputId": "dfaf47d8-e548-4558-8fec-c8aee1787787"
      },
      "source": [
        "oof, models = fit_lgbm(train_feat_df.values, y, cv, params=params)"
      ],
      "execution_count": null,
      "outputs": [
        {
          "output_type": "stream",
          "text": [
            "Training until validation scores don't improve for 10 rounds\n",
            "[10]\tvalid_0's rmse: 154.074\n",
            "[20]\tvalid_0's rmse: 150.936\n",
            "[30]\tvalid_0's rmse: 151.524\n",
            "Early stopping, best iteration is:\n",
            "[22]\tvalid_0's rmse: 150.577\n",
            "fit fold=1 0.300[s]\n",
            "Fold 0 RMSLE: 1.5432\n",
            "Training until validation scores don't improve for 10 rounds\n",
            "[10]\tvalid_0's rmse: 240.156\n",
            "[20]\tvalid_0's rmse: 234.979\n",
            "[30]\tvalid_0's rmse: 234.198\n",
            "[40]\tvalid_0's rmse: 233.793\n",
            "Early stopping, best iteration is:\n",
            "[37]\tvalid_0's rmse: 233.526\n",
            "fit fold=2 0.030[s]\n",
            "Fold 1 RMSLE: 1.4675\n",
            "Training until validation scores don't improve for 10 rounds\n",
            "[10]\tvalid_0's rmse: 146.814\n",
            "[20]\tvalid_0's rmse: 146.388\n",
            "Early stopping, best iteration is:\n",
            "[16]\tvalid_0's rmse: 145.77\n",
            "fit fold=3 0.031[s]\n",
            "Fold 2 RMSLE: 1.5313\n",
            "Training until validation scores don't improve for 10 rounds\n",
            "[10]\tvalid_0's rmse: 145.936\n",
            "[20]\tvalid_0's rmse: 140.966\n",
            "[30]\tvalid_0's rmse: 140.182\n",
            "[40]\tvalid_0's rmse: 139.359\n",
            "[50]\tvalid_0's rmse: 139.978\n",
            "Early stopping, best iteration is:\n",
            "[41]\tvalid_0's rmse: 139.294\n",
            "fit fold=4 0.026[s]\n",
            "Fold 3 RMSLE: 1.4659\n",
            "Training until validation scores don't improve for 10 rounds\n",
            "[10]\tvalid_0's rmse: 208.396\n",
            "[20]\tvalid_0's rmse: 201.169\n",
            "[30]\tvalid_0's rmse: 197.948\n",
            "[40]\tvalid_0's rmse: 196.198\n",
            "[50]\tvalid_0's rmse: 195.115\n",
            "Early stopping, best iteration is:\n",
            "[47]\tvalid_0's rmse: 194.838\n",
            "fit fold=5 0.167[s]\n",
            "Fold 4 RMSLE: 1.4502\n",
            "FINISHED | Whole RMSLE: 1.4921\n"
          ],
          "name": "stdout"
        }
      ]
    },
    {
      "cell_type": "markdown",
      "metadata": {
        "id": "8KG2RqRykmUe"
      },
      "source": [
        "### Note\n",
        "\n",
        "* lightGBM を `RMSE` の意味で学習させました (`objective=\"rmse\"`)。RMSEはノイズが正規分布に従っていると仮定したモデルですが、今回のデータでは成り立っているでしょうか。\n",
        "* 評価指標は `RMSLE` で `RMSE` とずれています。できれば `RMSLE` の意味で最適化することが良いはずです (ことこのコンペにおいては). RMSLE の意味で最適化する方法はないでしょうか。"
      ]
    },
    {
      "cell_type": "code",
      "metadata": {
        "id": "GtXQiqq9kmUe",
        "outputId": "11b28b59-c0cd-47c2-b8c6-6fc11d4039f8"
      },
      "source": [
        "sns.distplot(y)"
      ],
      "execution_count": null,
      "outputs": [
        {
          "output_type": "execute_result",
          "data": {
            "text/plain": [
              "<matplotlib.axes._subplots.AxesSubplot at 0x7f822c3ea510>"
            ]
          },
          "metadata": {
            "tags": []
          },
          "execution_count": 24
        },
        {
          "output_type": "display_data",
          "data": {
            "image/png": "[encoded data removed]",
            "text/plain": [
              "<Figure size 576x396 with 1 Axes>"
            ]
          },
          "metadata": {
            "tags": []
          }
        }
      ]
    },
    {
      "cell_type": "code",
      "metadata": {
        "id": "Ey6iJGiCkmUe",
        "outputId": "62c69efe-f5b3-4803-963f-dd16414175df"
      },
      "source": [
        "ax = sns.distplot(np.log(y))\n",
        "ax.grid()"
      ],
      "execution_count": null,
      "outputs": [
        {
          "output_type": "display_data",
          "data": {
            "image/png": "[encoded data removed]",
            "text/plain": [
              "<Figure size 576x396 with 1 Axes>"
            ]
          },
          "metadata": {
            "tags": []
          }
        }
      ]
    },
    {
      "cell_type": "markdown",
      "metadata": {
        "id": "455GEwKfkmUf"
      },
      "source": [
        "### 特徴重要度の確認\n",
        "\n",
        "LightGBM など木系のモデルではどの特徴量で分割を行ってどれだけ目的変数を説明しているかを特徴重要度 (feature importance) として出力することができます。これを見ることで\n",
        "\n",
        "* どの特徴量が大事なのか\n",
        "* どの特徴量はあまり大事ではないか\n",
        "\n",
        "といった特徴量に関する情報を得ることができます。これによって、例えば重要となった特徴量を使う別の特徴を考えたり、反対に大事ではない特徴を削ったりといったインサイトを得ることが可能です。"
      ]
    },
    {
      "cell_type": "code",
      "metadata": {
        "id": "7b7KjzGQkmUf"
      },
      "source": [
        "def visualize_importance(models, feat_train_df):\n",
        "    \"\"\"lightGBM の model 配列の feature importance を plot する\n",
        "    CVごとのブレを boxen plot として表現します.\n",
        "    \n",
        "    args:\n",
        "        models:\n",
        "            List of lightGBM models\n",
        "        feat_train_df:\n",
        "            学習時に使った DataFrame\n",
        "    \"\"\"\n",
        "    feature_importance_df = pd.DataFrame()\n",
        "    for i, model in enumerate(models):\n",
        "        _df = pd.DataFrame()\n",
        "        _df['feature_importance'] = model.feature_importances_\n",
        "        _df['column'] = feat_train_df.columns\n",
        "        _df['fold'] = i + 1\n",
        "        feature_importance_df = pd.concat([feature_importance_df, _df], axis=0, ignore_index=True)\n",
        "\n",
        "    order = feature_importance_df.groupby('column')\\\n",
        "        .sum()[['feature_importance']]\\\n",
        "        .sort_values('feature_importance', ascending=False).index[:50]\n",
        "\n",
        "    fig, ax = plt.subplots(figsize=(max(6, len(order) * .4), 7))\n",
        "    sns.boxenplot(data=feature_importance_df, x='column', y='feature_importance', order=order, ax=ax, palette='viridis')\n",
        "    ax.tick_params(axis='x', rotation=90)\n",
        "    ax.grid()\n",
        "    fig.tight_layout()\n",
        "    return fig, ax"
      ],
      "execution_count": null,
      "outputs": []
    },
    {
      "cell_type": "code",
      "metadata": {
        "id": "lgOSesjQkmUf",
        "outputId": "03064607-a2ea-4e6f-ef3e-d395ab33b0b6"
      },
      "source": [
        "fig, ax = visualize_importance(models, train_feat_df)"
      ],
      "execution_count": null,
      "outputs": [
        {
          "output_type": "display_data",
          "data": {
            "image/png": "[encoded data removed]",
            "text/plain": [
              "<Figure size 432x504 with 1 Axes>"
            ]
          },
          "metadata": {
            "tags": []
          }
        }
      ]
    },
    {
      "cell_type": "code",
      "metadata": {
        "id": "hNNCs-T3kmUf"
      },
      "source": [
        "pred = np.array([model.predict(test_feat_df.values) for model in models])\n",
        "pred = np.mean(pred, axis=0)\n",
        "pred = np.where(pred < 0, 0, pred)\n",
        "sub_df = pd.DataFrame({ 'Global_Sales': pred })\n",
        "sub_df.to_csv(os.path.join(OUTPUT_DIR, 'simple_submission.csv'), index=False)"
      ],
      "execution_count": null,
      "outputs": []
    },
    {
      "cell_type": "markdown",
      "metadata": {
        "id": "EcgBuyi2kmUf"
      },
      "source": [
        "Submission する前には予測値がまともかどうかちゃんと見ておきます。(貴重なsubmissionを無駄にしないため)"
      ]
    },
    {
      "cell_type": "code",
      "metadata": {
        "id": "5_VVO4XUkmUf",
        "outputId": "93f6cd9c-b8a6-4822-82c9-d82549e7bb1d"
      },
      "source": [
        "fig, ax = plt.subplots(figsize=(8, 8))\n",
        "sns.distplot(np.log1p(pred), label='Test Predict')\n",
        "sns.distplot(np.log1p(oof), label='Out Of Fold')\n",
        "ax.legend()\n",
        "ax.grid()"
      ],
      "execution_count": null,
      "outputs": [
        {
          "output_type": "display_data",
          "data": {
            "image/png": "[encoded data removed]",
            "text/plain": [
              "<Figure size 576x576 with 1 Axes>"
            ]
          },
          "metadata": {
            "tags": []
          }
        }
      ]
    },
    {
      "cell_type": "markdown",
      "metadata": {
        "id": "8hm-haQIkmUf"
      },
      "source": [
        "### Future Work\n",
        "\n",
        "* データをより良く見て、性質を理解する (EDA)\n",
        "* 特徴量をより凝ったものにする\n",
        "\n",
        "これらは次回の講座で扱います!"
      ]
    }
  ]
}